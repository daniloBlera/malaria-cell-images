{
  "nbformat": 4,
  "nbformat_minor": 0,
  "metadata": {
    "colab": {
      "name": "malaria-cell-images-to-drive.ipynb",
      "provenance": [],
      "collapsed_sections": [],
      "toc_visible": true
    },
    "kernelspec": {
      "name": "python3",
      "display_name": "Python 3"
    }
  },
  "cells": [
    {
      "cell_type": "markdown",
      "metadata": {
        "id": "W0l3jf9Kts7w"
      },
      "source": [
        "# Upload Dataset to Drive\n",
        "This notebook is used to download the malaria cell images dataset from kaggle into your google drive.\n",
        "\n",
        "Dataset url: https://www.kaggle.com/iarunava/cell-images-for-detecting-malaria\n",
        "\n",
        "Original Post: https://www.kaggle.com/general/51898#723056"
      ]
    },
    {
      "cell_type": "markdown",
      "metadata": {
        "id": "q4LwNryv2Fph"
      },
      "source": [
        "# Get kaggle cookie\n",
        "1 - Install the get-cookies chrome plugin: https://chrome.google.com/webstore/detail/get-cookiestxt/bgaddhkoddajcdgocldbbfleckgcbcid?hl=en\n",
        "\n",
        "2 - Login into kaggle through google chrome with the plugin installed\n",
        "\n",
        "3 - Open get-cookies and save the cookies file with the kaggle credentials\n",
        "\n",
        "4 - Upload the cookies.txt file to colab (I've uploaded it to my drive on `./drive/My Drive/kaggle-cookies.txt` then mounted it to get the file)"
      ]
    },
    {
      "cell_type": "code",
      "metadata": {
        "id": "fTQwbTGXxWnz"
      },
      "source": [
        "!cp './drive/My Drive/kaggle-cookies.txt' 'kaggle-cookies.txt'"
      ],
      "execution_count": null,
      "outputs": []
    },
    {
      "cell_type": "markdown",
      "metadata": {
        "id": "sjb5KdhRGCoy"
      },
      "source": [
        "# Download the zip archive"
      ]
    },
    {
      "cell_type": "code",
      "metadata": {
        "id": "VaLSHvPmFzvc"
      },
      "source": [
        "!wget -x --load-cookies 'kaggle-cookies.txt' \\\n",
        "    'https://www.kaggle.com/iarunava/cell-images-for-detecting-malaria/download' \\\n",
        "    -O data.zip"
      ],
      "execution_count": null,
      "outputs": []
    },
    {
      "cell_type": "markdown",
      "metadata": {
        "id": "1yPJzIgVGE2h"
      },
      "source": [
        "# Unzipping the data\n",
        "Send unecessary `stdout` output to `/dev/null`"
      ]
    },
    {
      "cell_type": "code",
      "metadata": {
        "id": "GublO1x8F1PG"
      },
      "source": [
        "!unzip data.zip > /dev/null\n",
        "!rm data.zip"
      ],
      "execution_count": null,
      "outputs": []
    },
    {
      "cell_type": "markdown",
      "metadata": {
        "id": "g-goZ0_hGWsv"
      },
      "source": [
        "# Compressing a new archive without duplicated images\n",
        "Remove the duplicated images directory"
      ]
    },
    {
      "cell_type": "code",
      "metadata": {
        "id": "UO81Mmk7F6EI"
      },
      "source": [
        "# Deleting repeated images\n",
        "!rm -r './cell_images/cell_images'\n",
        "\n",
        "!zip -r 'malaria-cell-images.zip' './cell_images' > /dev/null\n",
        "!rm -r cell_images"
      ],
      "execution_count": null,
      "outputs": []
    },
    {
      "cell_type": "markdown",
      "metadata": {
        "id": "HBZQab6NGeiv"
      },
      "source": [
        "# Copying the compressed archive to Drive"
      ]
    },
    {
      "cell_type": "code",
      "metadata": {
        "id": "pEAW7y3JwV_p"
      },
      "source": [
        "!cp './malaria-cell-images.zip' './drive/My Drive/'"
      ],
      "execution_count": null,
      "outputs": []
    }
  ]
}