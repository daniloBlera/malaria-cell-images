{
  "nbformat": 4,
  "nbformat_minor": 0,
  "metadata": {
    "colab": {
      "name": "malaria-cell-images.ipynb",
      "provenance": [],
      "collapsed_sections": [],
      "toc_visible": true
    },
    "kernelspec": {
      "name": "python3",
      "display_name": "Python 3"
    }
  },
  "cells": [
    {
      "cell_type": "markdown",
      "metadata": {
        "id": "tJ86TkR4ncyx"
      },
      "source": [
        "# Malaria Cell Infection\n",
        "This notebook is used in the National Institute of Health (NIH) Malaria Dataset\n",
        "\n",
        "URL to the used dataset on Kaggle: https://www.kaggle.com/iarunava/cell-images-for-detecting-malaria"
      ]
    },
    {
      "cell_type": "markdown",
      "metadata": {
        "id": "3owaByIIyA01"
      },
      "source": [
        "# Getting the datasets\n",
        "This will extract the data from `./drive/My Drive/malaria-cell-images.zip`. Before running this cell, save the dataset to your drive's using the `malaria-cell-images-to-drive` notebook"
      ]
    },
    {
      "cell_type": "code",
      "metadata": {
        "id": "vvwVa2B8x84-"
      },
      "source": [
        "# Skip copy and unzip if the extracted directory exists\n",
        "![ -d './cell_images' ] || cp './drive/My Drive/malaria-cell-images.zip' './'\n",
        "![ -d './cell_images' ] || unzip './malaria-cell-images.zip' > /dev/null\n",
        "!find './cell_images' -type f -name '*.db' -delete"
      ],
      "execution_count": null,
      "outputs": []
    },
    {
      "cell_type": "markdown",
      "metadata": {
        "id": "yGTegdCEzZC7"
      },
      "source": [
        "# Some information about the images"
      ]
    },
    {
      "cell_type": "code",
      "metadata": {
        "id": "1KmFqe4I2mQz",
        "outputId": "fa8877f8-d776-4be1-e6bf-0be09e6df20a",
        "colab": {
          "base_uri": "https://localhost:8080/"
        }
      },
      "source": [
        "!echo \"NUMBER OF POSITIVE IMAGES: $(find ./cell_images/Parasitized -type f | wc -l)\"\n",
        "!echo \"NUMBER OF NEGATIVE IMAGES: $(find ./cell_images/Uninfected -type f | wc -l)\"\n",
        "!echo \"                    TOTAL: $(find ./cell_images -type f | wc -l)\""
      ],
      "execution_count": null,
      "outputs": [
        {
          "output_type": "stream",
          "text": [
            "NUMBER OF POSITIVE IMAGES: 13779\n",
            "NUMBER OF NEGATIVE IMAGES: 13779\n",
            "                    TOTAL: 27558\n"
          ],
          "name": "stdout"
        }
      ]
    },
    {
      "cell_type": "markdown",
      "metadata": {
        "id": "oA0Yz-V-zoIC"
      },
      "source": [
        "# Importing the modules"
      ]
    },
    {
      "cell_type": "code",
      "metadata": {
        "id": "btLKqiP6ljxy",
        "outputId": "b0ae0c9e-1e1b-49ad-89fb-06d44db1b38e",
        "colab": {
          "base_uri": "https://localhost:8080/"
        }
      },
      "source": [
        "!pip install pytorch-ignite"
      ],
      "execution_count": null,
      "outputs": [
        {
          "output_type": "stream",
          "text": [
            "Collecting pytorch-ignite\n",
            "\u001b[?25l  Downloading https://files.pythonhosted.org/packages/14/98/0a5b83d82ff245d3de5f09808fb80ff0ed03f6b10933979e6018b1dd0eaa/pytorch_ignite-0.4.2-py2.py3-none-any.whl (175kB)\n",
            "\r\u001b[K     |█▉                              | 10kB 22.2MB/s eta 0:00:01\r\u001b[K     |███▊                            | 20kB 27.8MB/s eta 0:00:01\r\u001b[K     |█████▋                          | 30kB 32.9MB/s eta 0:00:01\r\u001b[K     |███████▌                        | 40kB 19.1MB/s eta 0:00:01\r\u001b[K     |█████████▍                      | 51kB 14.0MB/s eta 0:00:01\r\u001b[K     |███████████▏                    | 61kB 13.8MB/s eta 0:00:01\r\u001b[K     |█████████████                   | 71kB 13.6MB/s eta 0:00:01\r\u001b[K     |███████████████                 | 81kB 14.1MB/s eta 0:00:01\r\u001b[K     |████████████████▉               | 92kB 12.6MB/s eta 0:00:01\r\u001b[K     |██████████████████▊             | 102kB 12.2MB/s eta 0:00:01\r\u001b[K     |████████████████████▌           | 112kB 12.2MB/s eta 0:00:01\r\u001b[K     |██████████████████████▍         | 122kB 12.2MB/s eta 0:00:01\r\u001b[K     |████████████████████████▎       | 133kB 12.2MB/s eta 0:00:01\r\u001b[K     |██████████████████████████▏     | 143kB 12.2MB/s eta 0:00:01\r\u001b[K     |████████████████████████████    | 153kB 12.2MB/s eta 0:00:01\r\u001b[K     |█████████████████████████████▉  | 163kB 12.2MB/s eta 0:00:01\r\u001b[K     |███████████████████████████████▊| 174kB 12.2MB/s eta 0:00:01\r\u001b[K     |████████████████████████████████| 184kB 12.2MB/s \n",
            "\u001b[?25hRequirement already satisfied: torch<2,>=1.3 in /usr/local/lib/python3.6/dist-packages (from pytorch-ignite) (1.6.0+cu101)\n",
            "Requirement already satisfied: numpy in /usr/local/lib/python3.6/dist-packages (from torch<2,>=1.3->pytorch-ignite) (1.18.5)\n",
            "Requirement already satisfied: future in /usr/local/lib/python3.6/dist-packages (from torch<2,>=1.3->pytorch-ignite) (0.16.0)\n",
            "Installing collected packages: pytorch-ignite\n",
            "Successfully installed pytorch-ignite-0.4.2\n"
          ],
          "name": "stdout"
        }
      ]
    },
    {
      "cell_type": "code",
      "metadata": {
        "id": "XZq4spxmznzS"
      },
      "source": [
        "import math\n",
        "import os\n",
        "import shutil\n",
        "\n",
        "import matplotlib.pyplot as plt\n",
        "import numpy as np\n",
        "from sklearn.model_selection import train_test_split\n",
        "from tabulate import tabulate\n",
        "\n",
        "from ignite.engine import Events, create_supervised_trainer, create_supervised_evaluator\n",
        "from ignite.metrics import Accuracy, Loss, RunningAverage, ConfusionMatrix\n",
        "from ignite.handlers import ModelCheckpoint, EarlyStopping\n",
        "\n",
        "import torch\n",
        "from torch import optim, nn\n",
        "import torch.nn.functional as F\n",
        "from torch.utils.data.sampler import RandomSampler, SubsetRandomSampler\n",
        "from torchsummary import summary\n",
        "from torchvision import datasets, models, transforms"
      ],
      "execution_count": null,
      "outputs": []
    },
    {
      "cell_type": "markdown",
      "metadata": {
        "id": "Qr8Yyfif02D4"
      },
      "source": [
        "# Splitting the dataset\n",
        "Since we'll not be doing model finetuning, the dataset will be split into *training*, with 80% of the dataset, and *test*, with the remaining 20%."
      ]
    },
    {
      "cell_type": "code",
      "metadata": {
        "id": "AYl9n8kujn7B"
      },
      "source": [
        "def split_images(imgs_root_path, splits_root_path):\n",
        "    if os.path.exists(splits_root_path):\n",
        "        shutil.rmtree(splits_root_path)\n",
        "    os.makedirs(splits_root_path)\n",
        "\n",
        "    fnames_map = dict()\n",
        "    img_classes = os.listdir(imgs_root_path)\n",
        "    datasets = ['train', 'test']\n",
        "    for img_class in img_classes:\n",
        "        img_class_root_path = os.path.join(imgs_root_path, img_class)\n",
        "        fnames = os.listdir(img_class_root_path)\n",
        "\n",
        "        (train_fnames, test_fnames) = train_test_split(\n",
        "            fnames, train_size=0.8, shuffle=True)\n",
        "\n",
        "        fnames_map[('train', img_class)] = train_fnames\n",
        "        fnames_map[('test',  img_class)] = test_fnames\n",
        "        for ((dset, img_class), fnames) in fnames_map.items():\n",
        "            for fname in fnames:\n",
        "                src_img_path = os.path.join(imgs_root_path, img_class, fname)\n",
        "                dst_img_path = os.path.join(splits_root_path, dset, img_class, fname)\n",
        "\n",
        "                if not os.path.exists(os.path.dirname(dst_img_path)):\n",
        "                    os.makedirs(os.path.dirname(dst_img_path))\n",
        "\n",
        "                shutil.copy(src_img_path, dst_img_path)\n",
        "\n",
        "    table_headers = datasets\n",
        "    table_data = list()\n",
        "    for c in img_classes:\n",
        "        row = [c]\n",
        "        for d in datasets:\n",
        "            abs_freq = len(fnames_map[(d, c)])\n",
        "            row.append(abs_freq)\n",
        "        table_data.append(row)\n",
        "    print('SPLITS ABS. FREQUENCY')\n",
        "    print(tabulate(tabular_data=table_data, headers=table_headers, tablefmt='github'))"
      ],
      "execution_count": null,
      "outputs": []
    },
    {
      "cell_type": "code",
      "metadata": {
        "id": "py66UiMw4Qkq",
        "outputId": "cb393b6e-27e6-471a-ffd9-5de26b412b4c",
        "colab": {
          "base_uri": "https://localhost:8080/"
        }
      },
      "source": [
        "%%time\n",
        "split_images('./cell_images', 'datasets')"
      ],
      "execution_count": null,
      "outputs": [
        {
          "output_type": "stream",
          "text": [
            "SPLITS ABS. FREQUENCY\n",
            "|             |   train |   test |\n",
            "|-------------|---------|--------|\n",
            "| Parasitized |   11023 |   2756 |\n",
            "| Uninfected  |   11023 |   2756 |\n",
            "CPU times: user 1.5 s, sys: 2.68 s, total: 4.18 s\n",
            "Wall time: 4.93 s\n"
          ],
          "name": "stdout"
        }
      ]
    },
    {
      "cell_type": "markdown",
      "metadata": {
        "id": "mVvikzheqCzT"
      },
      "source": [
        "# Helper functions"
      ]
    },
    {
      "cell_type": "markdown",
      "metadata": {
        "id": "VBIVyli9oJZ3"
      },
      "source": [
        "## Defining the data loaders function"
      ]
    },
    {
      "cell_type": "code",
      "metadata": {
        "id": "4KLspmTzoL4R"
      },
      "source": [
        "def create_transforms(img_res):\n",
        "    train_transforms = transforms.Compose(\n",
        "        [\n",
        "            transforms.Resize(IMG_RES),\n",
        "            transforms.RandomHorizontalFlip(),\n",
        "            transforms.RandomVerticalFlip(),\n",
        "            transforms.RandomRotation(45),\n",
        "            transforms.ToTensor(),\n",
        "            transforms.Normalize(mean=[0.5, 0.5, 0.5], std=[0.5, 0.5, 0.5])\n",
        "        ]\n",
        "    )\n",
        "\n",
        "    eval_transforms = transforms.Compose(\n",
        "        [\n",
        "            transforms.Resize(IMG_RES),\n",
        "            transforms.ToTensor(),\n",
        "            transforms.Normalize(mean=[0.5, 0.5, 0.5], std=[0.5, 0.5, 0.5])\n",
        "        ]\n",
        "    )\n",
        "\n",
        "    return (train_transforms, eval_transforms)\n",
        "\n",
        "\n",
        "def create_data_loaders(img_res):\n",
        "    (train_transforms, eval_transforms) = create_transforms(img_res)\n",
        "    train_dataset = datasets.ImageFolder('./datasets/train', transform=train_transforms)\n",
        "    test_dataset =  datasets.ImageFolder('./datasets/test',  transform=eval_transforms)\n",
        "\n",
        "    train_sampler = RandomSampler(train_dataset)\n",
        "    test_sampler =  RandomSampler(test_dataset)\n",
        "\n",
        "    train_loader = torch.utils.data.DataLoader(\n",
        "        train_dataset,\n",
        "        batch_size=BATCH_SIZE,\n",
        "        sampler=train_sampler,\n",
        "        num_workers=NUM_WORKERS\n",
        "    )\n",
        "\n",
        "    test_loader = torch.utils.data.DataLoader(\n",
        "        test_dataset,\n",
        "        batch_size=BATCH_SIZE,\n",
        "        sampler=test_sampler,\n",
        "        num_workers=NUM_WORKERS\n",
        "    )\n",
        "\n",
        "    return (train_loader, test_loader)"
      ],
      "execution_count": null,
      "outputs": []
    },
    {
      "cell_type": "markdown",
      "metadata": {
        "id": "qwMjo4o8m81S"
      },
      "source": [
        "## Defining the training, validation and test procedure"
      ]
    },
    {
      "cell_type": "code",
      "metadata": {
        "id": "pYVHss6qm7wC"
      },
      "source": [
        "def create_training_procedure(model, optimizer, criterion, device, train_loader,\n",
        "                              test_loader):\n",
        "    trainer = create_supervised_trainer(model, optimizer, criterion, device=device)\n",
        "    metrics = {\n",
        "        'Accuracy': Accuracy(),\n",
        "        'Loss': Loss(criterion)\n",
        "    }\n",
        "\n",
        "    evaluator = create_supervised_evaluator(model, metrics=metrics, device=device)\n",
        "    train_history = {'accuracy': list(), 'loss': list()}\n",
        "    test_history = {'accuracy': list(), 'loss': list()}\n",
        "    last_epoch = list()\n",
        "    RunningAverage(output_transform=lambda x: x).attach(trainer, 'loss')\n",
        "\n",
        "    # The commented lines below add early stopping but for the purposes of this notebook\n",
        "    # we won't be using it\n",
        "    # def score_function(engine):\n",
        "    #     val_loss = engine.state.metrics['Loss']\n",
        "    #     return -val_loss\n",
        "\n",
        "    # handler = EarlyStopping(patience=10, score_function=score_function, trainer=trainer)\n",
        "    # evaluator.add_event_handler(Events.COMPLETED, handler)\n",
        "\n",
        "    def get_acc_and_loss(data_loader):\n",
        "        evaluator.run(data_loader)\n",
        "        metrics = evaluator.state.metrics\n",
        "        accuracy = metrics['Accuracy'] * 100\n",
        "        loss = metrics['Loss']\n",
        "\n",
        "        return (accuracy, loss)\n",
        "\n",
        "\n",
        "    @trainer.on(Events.EPOCH_COMPLETED)\n",
        "    def log_epoch_results(trainer):\n",
        "        (train_acc, train_loss) = get_acc_and_loss(train_loader)\n",
        "        train_history['accuracy'].append(train_acc)\n",
        "        train_history['loss'].append(train_loss)\n",
        "\n",
        "        (test_acc, test_loss) = get_acc_and_loss(test_loader)\n",
        "        test_history['accuracy'].append(test_acc)\n",
        "        test_history['loss'].append(test_loss)\n",
        "\n",
        "        print(\n",
        "            f'Epoch: {trainer.state.epoch:>2},',\n",
        "            f'Train Avg. Acc.: {train_acc:.2f},',\n",
        "            f'Train Avg. Loss: {train_loss:.2f} -',\n",
        "            f'Test Avg. Acc.: {test_acc:.2f},',\n",
        "            f'Test Avg. Loss: {test_loss:.2f}'\n",
        "        )\n",
        "\n",
        "\n",
        "    checkpointer = ModelCheckpoint(\n",
        "            './saved_models', 'baseline-cnn', n_saved=2, create_dir=True,\n",
        "            save_as_state_dict=True, require_empty=False)\n",
        "\n",
        "    _ = trainer.add_event_handler(\n",
        "            Events.EPOCH_COMPLETED, checkpointer, {'baseline-cnn': model})\n",
        "\n",
        "    return (trainer, train_history, test_history)"
      ],
      "execution_count": null,
      "outputs": []
    },
    {
      "cell_type": "markdown",
      "metadata": {
        "id": "lmgXlPpYmJ7a"
      },
      "source": [
        "## Defining the experiment plots"
      ]
    },
    {
      "cell_type": "code",
      "metadata": {
        "id": "FddJwSbGmLD1"
      },
      "source": [
        "def display_results(train_history, test_history, title):\n",
        "    plt.plot(train_history['accuracy'],label=\"Training Accuracy\")\n",
        "    plt.plot(test_history['accuracy'],label=\"Test Accuracy\")\n",
        "    plt.xlabel('No. of Epochs')\n",
        "    plt.ylabel('Accuracy')\n",
        "    plt.legend(frameon=False)\n",
        "    plt.title(title)\n",
        "    plt.show()\n",
        "\n",
        "    plt.plot(train_history['loss'],label=\"Training Loss\")\n",
        "    plt.plot(test_history['loss'],label=\"Test Loss\")\n",
        "    plt.xlabel('No. of Epochs')\n",
        "    plt.ylabel('Loss')\n",
        "    plt.legend(frameon=False)\n",
        "    plt.title(title)\n",
        "    plt.show()"
      ],
      "execution_count": null,
      "outputs": []
    },
    {
      "cell_type": "markdown",
      "metadata": {
        "id": "bwmwBfC7C3pA"
      },
      "source": [
        "## Defining the calculation of convolution shape propagation\n",
        "Using these helpers to calculate how the image shrinks through the convolutional layers"
      ]
    },
    {
      "cell_type": "code",
      "metadata": {
        "id": "0lMtUrQzCWSU"
      },
      "source": [
        "def filter_shape(width, kernel_size, padding=1, stride=1):\n",
        "    div = width + (2 * padding) - kernel_size\n",
        "    return math.floor(div / stride) + 1\n",
        "\n",
        "\n",
        "def conv(width, kernel_size, padding=1, stride=1):\n",
        "    return filter_shape(width, kernel_size, padding=padding, stride=stride)\n",
        "\n",
        "\n",
        "def pool(width, pool_size, stride=2):\n",
        "    return filter_shape(width, kernel_size=pool_size, padding=0, stride=stride)"
      ],
      "execution_count": null,
      "outputs": []
    },
    {
      "cell_type": "markdown",
      "metadata": {
        "id": "x2pYSqp6gAxz"
      },
      "source": [
        "## Defining a rapid shape mismatch test\n",
        "We'll run forward propagation on a single batch to check for input shape mismatch between the convolutional and fully-connected layers"
      ]
    },
    {
      "cell_type": "code",
      "metadata": {
        "id": "V5WfOmtogAx0"
      },
      "source": [
        "def test_forward_prop(model, train_loader, device):\n",
        "    \"\"\"\n",
        "    A simple shape mismatch test for the forward propagation\n",
        "    \"\"\"\n",
        "    (data, target) = next(iter(train_loader))\n",
        "    (data, target) = (data.to(device), target.to(device))\n",
        "\n",
        "    logits = model(data)\n",
        "    (batch_size, num_classes) = logits.shape\n",
        "    print(f'NO SHAPE MISMATCH ERRORS IT SEEMS...')\n",
        "    print(f'BATCH SIZE: {batch_size}, NUM. CLASSES: {num_classes}')"
      ],
      "execution_count": null,
      "outputs": []
    },
    {
      "cell_type": "markdown",
      "metadata": {
        "id": "nzodTbICTa0q"
      },
      "source": [
        "# Experiment - Baseline CNN\n",
        "URL: https://www.kaggle.com/pradheeprio/malaria-cell-image-detection-using-cnn-acc-95"
      ]
    },
    {
      "cell_type": "markdown",
      "metadata": {
        "id": "8EYkhn3YkmZ1"
      },
      "source": [
        "## Configuring the parameters"
      ]
    },
    {
      "cell_type": "code",
      "metadata": {
        "id": "3TLHMgackkKB",
        "outputId": "95cc0879-4d5d-4c61-c2db-01811e9de0cf",
        "colab": {
          "base_uri": "https://localhost:8080/"
        }
      },
      "source": [
        "DEVICE = 'cuda' if torch.cuda.is_available() else 'cpu'\n",
        "print(f'DEVICE USED: {DEVICE}')\n",
        "\n",
        "RANDOM_SEED = 42\n",
        "BATCH_SIZE = 64\n",
        "NUM_EPOCHS = 30\n",
        "LEARNING_RATE = 0.001\n",
        "IMG_RES = (68, 68)\n",
        "NUM_WORKERS = 2\n",
        "\n",
        "NUM_CLASSES = 2\n",
        "_ = torch.manual_seed(RANDOM_SEED)"
      ],
      "execution_count": null,
      "outputs": [
        {
          "output_type": "stream",
          "text": [
            "DEVICE USED: cuda\n"
          ],
          "name": "stdout"
        }
      ]
    },
    {
      "cell_type": "markdown",
      "metadata": {
        "id": "zeM1CXUypHoB"
      },
      "source": [
        "## Creating the train and test data loaders"
      ]
    },
    {
      "cell_type": "code",
      "metadata": {
        "id": "NWp2H1OipGfD"
      },
      "source": [
        "(train_loader, test_loader) = create_data_loaders(IMG_RES)"
      ],
      "execution_count": null,
      "outputs": []
    },
    {
      "cell_type": "markdown",
      "metadata": {
        "id": "1PzQfp5cDP4h"
      },
      "source": [
        "## Implementing the model"
      ]
    },
    {
      "cell_type": "code",
      "metadata": {
        "id": "N2BFWad7DiFj",
        "outputId": "3b07fdb1-f0b0-4b04-f597-1c5ffd540bec",
        "colab": {
          "base_uri": "https://localhost:8080/"
        }
      },
      "source": [
        "w = IMG_RES[0]\n",
        "print(f'INPUT WIDTH: {w}', end='\\n\\n')\n",
        "\n",
        "w = conv(width=w, kernel_size=3, padding=0, stride=1)\n",
        "print(f'C1: {w}, in_ch: 3, out_ch: 16')\n",
        "\n",
        "w = pool(width=w, pool_size=2)\n",
        "print(f'P1: {w}', end='\\n\\n')\n",
        "\n",
        "w = conv(width=w, kernel_size=3, padding=0, stride=1)\n",
        "print(f'C2: {w}, in_ch: 16, out_ch: 64')\n",
        "\n",
        "w = pool(width=w, pool_size=2)\n",
        "print(f'P2: {w}', end='\\n\\n')\n",
        "print(f'FLAT SHAPE: {w * w * 64}')"
      ],
      "execution_count": null,
      "outputs": [
        {
          "output_type": "stream",
          "text": [
            "INPUT WIDTH: 68\n",
            "\n",
            "C1: 66, in_ch: 3, out_ch: 16\n",
            "P1: 33\n",
            "\n",
            "C2: 31, in_ch: 16, out_ch: 64\n",
            "P2: 15\n",
            "\n",
            "FLAT SHAPE: 14400\n"
          ],
          "name": "stdout"
        }
      ]
    },
    {
      "cell_type": "code",
      "metadata": {
        "id": "IMF96UFDDN1z"
      },
      "source": [
        "class BaselineCNN(nn.Module):\n",
        "    def __init__(self, num_classes):\n",
        "        super().__init__()\n",
        "\n",
        "        self.conv_block1 = nn.Sequential(\n",
        "            nn.Conv2d(in_channels=3, out_channels=16, kernel_size=3, stride=1, padding=0),\n",
        "            nn.ReLU(),\n",
        "            nn.MaxPool2d(kernel_size=2),\n",
        "            nn.Dropout2d(p=0.2)\n",
        "        )\n",
        "\n",
        "        self.conv_block2 = nn.Sequential(\n",
        "            nn.Conv2d(in_channels=16, out_channels=64, kernel_size=3, stride=1, padding=0),\n",
        "            nn.ReLU(),\n",
        "            nn.MaxPool2d(kernel_size=2),\n",
        "            nn.Dropout2d(p=0.3)\n",
        "        )\n",
        "\n",
        "        self.dense_block = nn.Sequential(\n",
        "            nn.Linear(in_features=15 * 15 * 64, out_features=64),\n",
        "            nn.ReLU(),\n",
        "            nn.Dropout(p=0.5),\n",
        "            nn.Linear(in_features=64, out_features=num_classes)\n",
        "        )\n",
        "\n",
        "    def forward(self, X):\n",
        "        out = X\n",
        "\n",
        "        out = self.conv_block1(out)\n",
        "        out = self.conv_block2(out)\n",
        "        out = torch.flatten(out, 1)\n",
        "        out = self.dense_block(out)\n",
        "\n",
        "        return out"
      ],
      "execution_count": null,
      "outputs": []
    },
    {
      "cell_type": "markdown",
      "metadata": {
        "id": "JNUiyCocaOMc"
      },
      "source": [
        "### Testing the propagation with a single batch"
      ]
    },
    {
      "cell_type": "code",
      "metadata": {
        "id": "0v4PWeVfHmE1",
        "outputId": "3fd95b35-73c9-4fd1-dc0f-82b8676cbf8b",
        "colab": {
          "base_uri": "https://localhost:8080/"
        }
      },
      "source": [
        "DEVICE = 'cuda' if torch.cuda.is_available() else 'cpu'\n",
        "print(f'DEVICE USED: {DEVICE}')\n",
        "\n",
        "model = BaselineCNN(num_classes=2).to(DEVICE)\n",
        "test_forward_prop(model, train_loader, DEVICE)"
      ],
      "execution_count": null,
      "outputs": [
        {
          "output_type": "stream",
          "text": [
            "DEVICE USED: cuda\n",
            "NO SHAPE MISMATCH ERRORS IT SEEMS...\n",
            "BATCH SIZE: 64, NUM. CLASSES: 2\n"
          ],
          "name": "stdout"
        }
      ]
    },
    {
      "cell_type": "markdown",
      "metadata": {
        "id": "vfATDmjirgqc"
      },
      "source": [
        "## Printing the model's summary"
      ]
    },
    {
      "cell_type": "code",
      "metadata": {
        "id": "zsXCJG5nPM-N",
        "outputId": "521597d5-ca7a-4e53-e2fe-a210fee9f671",
        "colab": {
          "base_uri": "https://localhost:8080/"
        }
      },
      "source": [
        "model = BaselineCNN(num_classes=2).to(DEVICE)\n",
        "summary(model, input_size=(3, 68, 68))"
      ],
      "execution_count": null,
      "outputs": [
        {
          "output_type": "stream",
          "text": [
            "----------------------------------------------------------------\n",
            "        Layer (type)               Output Shape         Param #\n",
            "================================================================\n",
            "            Conv2d-1           [-1, 16, 66, 66]             448\n",
            "              ReLU-2           [-1, 16, 66, 66]               0\n",
            "         MaxPool2d-3           [-1, 16, 33, 33]               0\n",
            "         Dropout2d-4           [-1, 16, 33, 33]               0\n",
            "            Conv2d-5           [-1, 64, 31, 31]           9,280\n",
            "              ReLU-6           [-1, 64, 31, 31]               0\n",
            "         MaxPool2d-7           [-1, 64, 15, 15]               0\n",
            "         Dropout2d-8           [-1, 64, 15, 15]               0\n",
            "            Linear-9                   [-1, 64]         921,664\n",
            "             ReLU-10                   [-1, 64]               0\n",
            "          Dropout-11                   [-1, 64]               0\n",
            "           Linear-12                    [-1, 2]             130\n",
            "================================================================\n",
            "Total params: 931,522\n",
            "Trainable params: 931,522\n",
            "Non-trainable params: 0\n",
            "----------------------------------------------------------------\n",
            "Input size (MB): 0.05\n",
            "Forward/backward pass size (MB): 2.49\n",
            "Params size (MB): 3.55\n",
            "Estimated Total Size (MB): 6.10\n",
            "----------------------------------------------------------------\n"
          ],
          "name": "stdout"
        }
      ]
    },
    {
      "cell_type": "markdown",
      "metadata": {
        "id": "YEQ3dH_CzptC"
      },
      "source": [
        "## Running the experiment\n",
        "The model will be trained with three values of learning rate 0.001, 0.055, and 0.01."
      ]
    },
    {
      "cell_type": "code",
      "metadata": {
        "id": "ZJY2HmSqzPeS",
        "outputId": "041c47f8-c698-4558-d4c7-7d8a4bcee282",
        "colab": {
          "base_uri": "https://localhost:8080/",
          "height": 1000
        }
      },
      "source": [
        "%%time\n",
        "model_name = 'Baseline CNN'\n",
        "\n",
        "model = BaselineCNN(num_classes=NUM_CLASSES).to(DEVICE)\n",
        "optimizer = torch.optim.Adam(model.parameters(), lr=LEARNING_RATE)\n",
        "criterion = nn.CrossEntropyLoss()\n",
        "\n",
        "(trainer, train_history, test_history) = create_training_procedure(\n",
        "        model, optimizer, criterion, DEVICE, train_loader, test_loader)\n",
        "\n",
        "print(f'# MODEL: {model_name}, LR: {lr}')\n",
        "state = trainer.run(train_loader, max_epochs=NUM_EPOCHS)\n",
        "display_results(train_history, test_history,\n",
        "                f'{model_name} - lr: {lr}')"
      ],
      "execution_count": null,
      "outputs": [
        {
          "output_type": "stream",
          "text": [
            "# MODEL: Baseline CNN, LR: 0.001\n",
            "Epoch:  1, Train Avg. Acc.: 91.79, Train Avg. Loss: 0.24 - Test Avg. Acc.: 92.63, Test Avg. Loss: 0.23\n",
            "Epoch:  2, Train Avg. Acc.: 93.96, Train Avg. Loss: 0.18 - Test Avg. Acc.: 94.56, Test Avg. Loss: 0.17\n",
            "Epoch:  3, Train Avg. Acc.: 95.03, Train Avg. Loss: 0.16 - Test Avg. Acc.: 95.46, Test Avg. Loss: 0.15\n",
            "Epoch:  4, Train Avg. Acc.: 95.30, Train Avg. Loss: 0.15 - Test Avg. Acc.: 95.41, Test Avg. Loss: 0.14\n",
            "Epoch:  5, Train Avg. Acc.: 95.42, Train Avg. Loss: 0.14 - Test Avg. Acc.: 95.59, Test Avg. Loss: 0.13\n",
            "Epoch:  6, Train Avg. Acc.: 95.46, Train Avg. Loss: 0.14 - Test Avg. Acc.: 95.68, Test Avg. Loss: 0.13\n",
            "Epoch:  7, Train Avg. Acc.: 95.34, Train Avg. Loss: 0.14 - Test Avg. Acc.: 95.32, Test Avg. Loss: 0.14\n",
            "Epoch:  8, Train Avg. Acc.: 95.54, Train Avg. Loss: 0.13 - Test Avg. Acc.: 95.74, Test Avg. Loss: 0.13\n",
            "Epoch:  9, Train Avg. Acc.: 95.46, Train Avg. Loss: 0.14 - Test Avg. Acc.: 95.41, Test Avg. Loss: 0.13\n",
            "Epoch: 10, Train Avg. Acc.: 95.32, Train Avg. Loss: 0.14 - Test Avg. Acc.: 95.45, Test Avg. Loss: 0.13\n",
            "Epoch: 11, Train Avg. Acc.: 95.55, Train Avg. Loss: 0.13 - Test Avg. Acc.: 95.54, Test Avg. Loss: 0.13\n",
            "Epoch: 12, Train Avg. Acc.: 95.60, Train Avg. Loss: 0.13 - Test Avg. Acc.: 95.61, Test Avg. Loss: 0.13\n",
            "Epoch: 13, Train Avg. Acc.: 95.55, Train Avg. Loss: 0.13 - Test Avg. Acc.: 95.65, Test Avg. Loss: 0.12\n",
            "Epoch: 14, Train Avg. Acc.: 95.63, Train Avg. Loss: 0.13 - Test Avg. Acc.: 95.61, Test Avg. Loss: 0.13\n",
            "Epoch: 15, Train Avg. Acc.: 95.56, Train Avg. Loss: 0.13 - Test Avg. Acc.: 95.77, Test Avg. Loss: 0.13\n",
            "Epoch: 16, Train Avg. Acc.: 95.69, Train Avg. Loss: 0.13 - Test Avg. Acc.: 95.81, Test Avg. Loss: 0.12\n",
            "Epoch: 17, Train Avg. Acc.: 95.48, Train Avg. Loss: 0.13 - Test Avg. Acc.: 95.39, Test Avg. Loss: 0.13\n",
            "Epoch: 18, Train Avg. Acc.: 95.69, Train Avg. Loss: 0.13 - Test Avg. Acc.: 95.75, Test Avg. Loss: 0.13\n",
            "Epoch: 19, Train Avg. Acc.: 95.77, Train Avg. Loss: 0.12 - Test Avg. Acc.: 95.79, Test Avg. Loss: 0.12\n",
            "Epoch: 20, Train Avg. Acc.: 95.74, Train Avg. Loss: 0.13 - Test Avg. Acc.: 95.74, Test Avg. Loss: 0.12\n",
            "Epoch: 21, Train Avg. Acc.: 95.75, Train Avg. Loss: 0.13 - Test Avg. Acc.: 95.72, Test Avg. Loss: 0.12\n",
            "Epoch: 22, Train Avg. Acc.: 95.83, Train Avg. Loss: 0.12 - Test Avg. Acc.: 95.79, Test Avg. Loss: 0.12\n",
            "Epoch: 23, Train Avg. Acc.: 95.83, Train Avg. Loss: 0.13 - Test Avg. Acc.: 95.72, Test Avg. Loss: 0.12\n",
            "Epoch: 24, Train Avg. Acc.: 95.91, Train Avg. Loss: 0.12 - Test Avg. Acc.: 95.75, Test Avg. Loss: 0.12\n",
            "Epoch: 25, Train Avg. Acc.: 95.85, Train Avg. Loss: 0.12 - Test Avg. Acc.: 95.92, Test Avg. Loss: 0.12\n",
            "Epoch: 26, Train Avg. Acc.: 95.80, Train Avg. Loss: 0.12 - Test Avg. Acc.: 95.90, Test Avg. Loss: 0.12\n",
            "Epoch: 27, Train Avg. Acc.: 95.77, Train Avg. Loss: 0.12 - Test Avg. Acc.: 95.85, Test Avg. Loss: 0.12\n",
            "Epoch: 28, Train Avg. Acc.: 95.81, Train Avg. Loss: 0.12 - Test Avg. Acc.: 95.74, Test Avg. Loss: 0.12\n",
            "Epoch: 29, Train Avg. Acc.: 95.78, Train Avg. Loss: 0.12 - Test Avg. Acc.: 95.70, Test Avg. Loss: 0.12\n",
            "Epoch: 30, Train Avg. Acc.: 95.71, Train Avg. Loss: 0.12 - Test Avg. Acc.: 95.85, Test Avg. Loss: 0.12\n"
          ],
          "name": "stdout"
        },
        {
          "output_type": "display_data",
          "data": {
            "image/png": "[encoded data removed]",
            "text/plain": [
              "<Figure size 432x288 with 1 Axes>"
            ]
          },
          "metadata": {
            "tags": [],
            "needs_background": "light"
          }
        },
        {
          "output_type": "display_data",
          "data": {
            "image/png": "[encoded data removed]",
            "text/plain": [
              "<Figure size 432x288 with 1 Axes>"
            ]
          },
          "metadata": {
            "tags": [],
            "needs_background": "light"
          }
        },
        {
          "output_type": "stream",
          "text": [
            "CPU times: user 2min 16s, sys: 54.6 s, total: 3min 10s\n",
            "Wall time: 23min 48s\n"
          ],
          "name": "stdout"
        }
      ]
    },
    {
      "cell_type": "markdown",
      "metadata": {
        "id": "hEo-AklkgAxU"
      },
      "source": [
        "# Experiment - LeNet-5\n",
        "URL: https://towardsdatascience.com/implementing-yann-lecuns-lenet-5-in-pytorch-5e05a0911320"
      ]
    },
    {
      "cell_type": "markdown",
      "metadata": {
        "id": "jtpskGqylXBb"
      },
      "source": [
        "## Configuring the Parameters"
      ]
    },
    {
      "cell_type": "code",
      "metadata": {
        "id": "6U4Xg6_glZVS",
        "outputId": "58a64118-e92f-4cc7-9eac-30927112efbe",
        "colab": {
          "base_uri": "https://localhost:8080/"
        }
      },
      "source": [
        "DEVICE = 'cuda' if torch.cuda.is_available() else 'cpu'\n",
        "print(f'DEVICE USED: {DEVICE}')\n",
        "\n",
        "RANDOM_SEED = 42\n",
        "BATCH_SIZE = 64\n",
        "NUM_EPOCHS = 30\n",
        "LEARNING_RATE = 0.001\n",
        "IMG_RES = (32, 32)\n",
        "NUM_WORKERS = 2\n",
        "\n",
        "NUM_CLASSES = 2\n",
        "_ = torch.manual_seed(RANDOM_SEED)"
      ],
      "execution_count": null,
      "outputs": [
        {
          "output_type": "stream",
          "text": [
            "DEVICE USED: cuda\n"
          ],
          "name": "stdout"
        }
      ]
    },
    {
      "cell_type": "markdown",
      "metadata": {
        "id": "LiGG1vhRpwxy"
      },
      "source": [
        "## Creating the train and test data loaders"
      ]
    },
    {
      "cell_type": "code",
      "metadata": {
        "id": "phSRokH3pwx2"
      },
      "source": [
        "(train_loader, test_loader) = create_data_loaders(IMG_RES)"
      ],
      "execution_count": null,
      "outputs": []
    },
    {
      "cell_type": "markdown",
      "metadata": {
        "id": "PHl0JYXUgAxp"
      },
      "source": [
        "## Implementing the model"
      ]
    },
    {
      "cell_type": "code",
      "metadata": {
        "id": "HJuSbpCwgAxq",
        "outputId": "01ce2f67-43a8-4690-f3da-a3ad41fa4c65",
        "colab": {
          "base_uri": "https://localhost:8080/"
        }
      },
      "source": [
        "w = IMG_RES[0]\n",
        "print(f'INPUT WIDTH: {w}', end='\\n\\n')\n",
        "\n",
        "w = conv(width=w, kernel_size=5, padding=0, stride=1)\n",
        "print(f'C1: {w}, in_ch: 3, out_ch: 6')\n",
        "w = pool(width=w, pool_size=2)\n",
        "print(f'P1: {w}', end='\\n\\n')\n",
        "\n",
        "w = conv(width=w, kernel_size=5, padding=0, stride=1)\n",
        "print(f'C2: {w}, in_ch: 6, out_ch: 16')\n",
        "w = pool(width=w, pool_size=2)\n",
        "print(f'P2: {w}', end='\\n\\n')\n",
        "\n",
        "w = conv(width=w, kernel_size=5, padding=0, stride=1)\n",
        "print(f'C3: {w}, in_ch: 16, out_ch: 120')\n",
        "\n",
        "print(f'FLATTENED SHAPE: {w * w * 120}')"
      ],
      "execution_count": null,
      "outputs": [
        {
          "output_type": "stream",
          "text": [
            "INPUT WIDTH: 32\n",
            "\n",
            "C1: 28, in_ch: 3, out_ch: 6\n",
            "P1: 14\n",
            "\n",
            "C2: 10, in_ch: 6, out_ch: 16\n",
            "P2: 5\n",
            "\n",
            "C3: 1, in_ch: 16, out_ch: 120\n",
            "FLATTENED SHAPE: 120\n"
          ],
          "name": "stdout"
        }
      ]
    },
    {
      "cell_type": "code",
      "metadata": {
        "id": "yOkX-XplgAxv"
      },
      "source": [
        "class LeNet5(nn.Module):\n",
        "    def __init__(self, num_classes):\n",
        "        super().__init__()\n",
        "\n",
        "        self.conv_block1 = nn.Sequential(\n",
        "            nn.Conv2d(in_channels=3, out_channels=6, kernel_size=5, stride=1, padding=0),\n",
        "            nn.Tanh(),\n",
        "            nn.AvgPool2d(kernel_size=2)\n",
        "        )\n",
        "\n",
        "        self.conv_block2 = nn.Sequential(\n",
        "            nn.Conv2d(in_channels=6, out_channels=16, kernel_size=5, stride=1, padding=0),\n",
        "            nn.Tanh(),\n",
        "            nn.AvgPool2d(kernel_size=2)\n",
        "        )\n",
        "\n",
        "        self.conv_block3 = nn.Sequential(\n",
        "            nn.Conv2d(in_channels=16, out_channels=120, kernel_size=5, stride=1, padding=0),\n",
        "            nn.Tanh()\n",
        "        )\n",
        "\n",
        "        self.dense_block = nn.Sequential(\n",
        "            nn.Linear(in_features=1 * 1 * 120, out_features=84),\n",
        "            nn.Tanh(),\n",
        "            nn.Linear(in_features=84, out_features=num_classes)\n",
        "        )\n",
        "\n",
        "    def forward(self, X):\n",
        "        out = X\n",
        "\n",
        "        out = self.conv_block1(out)\n",
        "        out = self.conv_block2(out)\n",
        "        out = self.conv_block3(out)\n",
        "        out = torch.flatten(out, 1)\n",
        "        out = self.dense_block(out)\n",
        "\n",
        "        return out"
      ],
      "execution_count": null,
      "outputs": []
    },
    {
      "cell_type": "markdown",
      "metadata": {
        "id": "VeWrg2t-aVpA"
      },
      "source": [
        "### Testing the propagation with a single batch"
      ]
    },
    {
      "cell_type": "code",
      "metadata": {
        "id": "gQxFV1yIgAx6",
        "outputId": "15b5fcd5-2c80-4fb5-9cb9-d9c1a8541f04",
        "colab": {
          "base_uri": "https://localhost:8080/"
        }
      },
      "source": [
        "DEVICE = 'cuda' if torch.cuda.is_available() else 'cpu'\n",
        "print(f'DEVICE USED: {DEVICE}')\n",
        "\n",
        "model = LeNet5(num_classes=2).to(DEVICE)\n",
        "test_forward_prop(model, train_loader, DEVICE)"
      ],
      "execution_count": null,
      "outputs": [
        {
          "output_type": "stream",
          "text": [
            "DEVICE USED: cuda\n",
            "NO SHAPE MISMATCH ERRORS IT SEEMS...\n",
            "BATCH SIZE: 64, NUM. CLASSES: 2\n"
          ],
          "name": "stdout"
        }
      ]
    },
    {
      "cell_type": "markdown",
      "metadata": {
        "id": "SL-YJNdzgAyE"
      },
      "source": [
        "## Printing the model's summary"
      ]
    },
    {
      "cell_type": "code",
      "metadata": {
        "id": "ngJEcXzugAyF",
        "outputId": "ac8ba3b0-2d2c-457f-e888-a7b3ea783c67",
        "colab": {
          "base_uri": "https://localhost:8080/"
        }
      },
      "source": [
        "model = LeNet5(num_classes=2).to(DEVICE)\n",
        "summary(model, input_size=(3, 32, 32))"
      ],
      "execution_count": null,
      "outputs": [
        {
          "output_type": "stream",
          "text": [
            "----------------------------------------------------------------\n",
            "        Layer (type)               Output Shape         Param #\n",
            "================================================================\n",
            "            Conv2d-1            [-1, 6, 28, 28]             456\n",
            "              Tanh-2            [-1, 6, 28, 28]               0\n",
            "         AvgPool2d-3            [-1, 6, 14, 14]               0\n",
            "            Conv2d-4           [-1, 16, 10, 10]           2,416\n",
            "              Tanh-5           [-1, 16, 10, 10]               0\n",
            "         AvgPool2d-6             [-1, 16, 5, 5]               0\n",
            "            Conv2d-7            [-1, 120, 1, 1]          48,120\n",
            "              Tanh-8            [-1, 120, 1, 1]               0\n",
            "            Linear-9                   [-1, 84]          10,164\n",
            "             Tanh-10                   [-1, 84]               0\n",
            "           Linear-11                    [-1, 2]             170\n",
            "================================================================\n",
            "Total params: 61,326\n",
            "Trainable params: 61,326\n",
            "Non-trainable params: 0\n",
            "----------------------------------------------------------------\n",
            "Input size (MB): 0.01\n",
            "Forward/backward pass size (MB): 0.11\n",
            "Params size (MB): 0.23\n",
            "Estimated Total Size (MB): 0.36\n",
            "----------------------------------------------------------------\n"
          ],
          "name": "stdout"
        }
      ]
    },
    {
      "cell_type": "markdown",
      "metadata": {
        "id": "8ZjKPeMRgAyL"
      },
      "source": [
        "## Running the experiment\n",
        "The model will be trained with three values of learning rate 0.001, 0.055, and 0.01."
      ]
    },
    {
      "cell_type": "code",
      "metadata": {
        "id": "ZqxxofvxgAyL",
        "outputId": "d3186f85-1a4d-48f7-eee1-08cd9601e991",
        "colab": {
          "base_uri": "https://localhost:8080/",
          "height": 1000
        }
      },
      "source": [
        "%%time\n",
        "model_name = 'LeNet-5'\n",
        "\n",
        "model = LeNet5(num_classes=NUM_CLASSES).to(DEVICE)\n",
        "optimizer = torch.optim.Adam(model.parameters(), lr=LEARNING_RATE)\n",
        "criterion = nn.CrossEntropyLoss()\n",
        "\n",
        "(trainer, train_history, test_history) = create_training_procedure(\n",
        "        model, optimizer, criterion, DEVICE, train_loader, test_loader)\n",
        "\n",
        "print(f'# MODEL: {model_name}, LR: {lr}')\n",
        "state = trainer.run(train_loader, max_epochs=NUM_EPOCHS)\n",
        "display_results(train_history, test_history,\n",
        "                f'{model_name} - lr: {lr}')"
      ],
      "execution_count": null,
      "outputs": [
        {
          "output_type": "stream",
          "text": [
            "# MODEL: LeNet-5, LR: 0.001\n",
            "Epoch:  1, Train Avg. Acc.: 67.85, Train Avg. Loss: 0.60 - Test Avg. Acc.: 67.13, Test Avg. Loss: 0.61\n",
            "Epoch:  2, Train Avg. Acc.: 70.43, Train Avg. Loss: 0.58 - Test Avg. Acc.: 69.58, Test Avg. Loss: 0.58\n",
            "Epoch:  3, Train Avg. Acc.: 70.55, Train Avg. Loss: 0.56 - Test Avg. Acc.: 70.28, Test Avg. Loss: 0.57\n",
            "Epoch:  4, Train Avg. Acc.: 73.08, Train Avg. Loss: 0.54 - Test Avg. Acc.: 72.70, Test Avg. Loss: 0.55\n",
            "Epoch:  5, Train Avg. Acc.: 79.79, Train Avg. Loss: 0.44 - Test Avg. Acc.: 78.86, Test Avg. Loss: 0.45\n",
            "Epoch:  6, Train Avg. Acc.: 84.31, Train Avg. Loss: 0.36 - Test Avg. Acc.: 84.02, Test Avg. Loss: 0.36\n",
            "Epoch:  7, Train Avg. Acc.: 84.04, Train Avg. Loss: 0.37 - Test Avg. Acc.: 82.51, Test Avg. Loss: 0.38\n",
            "Epoch:  8, Train Avg. Acc.: 86.48, Train Avg. Loss: 0.31 - Test Avg. Acc.: 85.96, Test Avg. Loss: 0.32\n",
            "Epoch:  9, Train Avg. Acc.: 88.03, Train Avg. Loss: 0.29 - Test Avg. Acc.: 87.34, Test Avg. Loss: 0.30\n",
            "Epoch: 10, Train Avg. Acc.: 88.03, Train Avg. Loss: 0.29 - Test Avg. Acc.: 88.13, Test Avg. Loss: 0.30\n",
            "Epoch: 11, Train Avg. Acc.: 89.19, Train Avg. Loss: 0.26 - Test Avg. Acc.: 88.68, Test Avg. Loss: 0.27\n",
            "Epoch: 12, Train Avg. Acc.: 87.39, Train Avg. Loss: 0.30 - Test Avg. Acc.: 87.65, Test Avg. Loss: 0.31\n",
            "Epoch: 13, Train Avg. Acc.: 89.53, Train Avg. Loss: 0.25 - Test Avg. Acc.: 89.50, Test Avg. Loss: 0.26\n",
            "Epoch: 14, Train Avg. Acc.: 89.76, Train Avg. Loss: 0.25 - Test Avg. Acc.: 89.57, Test Avg. Loss: 0.26\n",
            "Epoch: 15, Train Avg. Acc.: 89.93, Train Avg. Loss: 0.24 - Test Avg. Acc.: 89.91, Test Avg. Loss: 0.25\n",
            "Epoch: 16, Train Avg. Acc.: 91.01, Train Avg. Loss: 0.23 - Test Avg. Acc.: 90.42, Test Avg. Loss: 0.24\n",
            "Epoch: 17, Train Avg. Acc.: 90.79, Train Avg. Loss: 0.22 - Test Avg. Acc.: 91.11, Test Avg. Loss: 0.23\n",
            "Epoch: 18, Train Avg. Acc.: 90.38, Train Avg. Loss: 0.24 - Test Avg. Acc.: 90.55, Test Avg. Loss: 0.25\n",
            "Epoch: 19, Train Avg. Acc.: 91.00, Train Avg. Loss: 0.22 - Test Avg. Acc.: 91.04, Test Avg. Loss: 0.23\n",
            "Epoch: 20, Train Avg. Acc.: 90.93, Train Avg. Loss: 0.23 - Test Avg. Acc.: 91.22, Test Avg. Loss: 0.24\n",
            "Epoch: 21, Train Avg. Acc.: 91.57, Train Avg. Loss: 0.21 - Test Avg. Acc.: 91.42, Test Avg. Loss: 0.22\n",
            "Epoch: 22, Train Avg. Acc.: 91.54, Train Avg. Loss: 0.21 - Test Avg. Acc.: 91.22, Test Avg. Loss: 0.22\n",
            "Epoch: 23, Train Avg. Acc.: 91.86, Train Avg. Loss: 0.20 - Test Avg. Acc.: 92.04, Test Avg. Loss: 0.21\n",
            "Epoch: 24, Train Avg. Acc.: 92.07, Train Avg. Loss: 0.20 - Test Avg. Acc.: 91.98, Test Avg. Loss: 0.21\n",
            "Epoch: 25, Train Avg. Acc.: 92.14, Train Avg. Loss: 0.20 - Test Avg. Acc.: 92.27, Test Avg. Loss: 0.21\n",
            "Epoch: 26, Train Avg. Acc.: 92.71, Train Avg. Loss: 0.19 - Test Avg. Acc.: 92.67, Test Avg. Loss: 0.19\n",
            "Epoch: 27, Train Avg. Acc.: 92.43, Train Avg. Loss: 0.19 - Test Avg. Acc.: 92.20, Test Avg. Loss: 0.20\n",
            "Epoch: 28, Train Avg. Acc.: 92.88, Train Avg. Loss: 0.18 - Test Avg. Acc.: 92.67, Test Avg. Loss: 0.20\n",
            "Epoch: 29, Train Avg. Acc.: 92.70, Train Avg. Loss: 0.18 - Test Avg. Acc.: 92.36, Test Avg. Loss: 0.20\n",
            "Epoch: 30, Train Avg. Acc.: 92.60, Train Avg. Loss: 0.19 - Test Avg. Acc.: 92.49, Test Avg. Loss: 0.19\n"
          ],
          "name": "stdout"
        },
        {
          "output_type": "display_data",
          "data": {
            "image/png": "[encoded data removed]",
            "text/plain": [
              "<Figure size 432x288 with 1 Axes>"
            ]
          },
          "metadata": {
            "tags": [],
            "needs_background": "light"
          }
        },
        {
          "output_type": "display_data",
          "data": {
            "image/png": "[encoded data removed]",
            "text/plain": [
              "<Figure size 432x288 with 1 Axes>"
            ]
          },
          "metadata": {
            "tags": [],
            "needs_background": "light"
          }
        },
        {
          "output_type": "stream",
          "text": [
            "CPU times: user 1min 33s, sys: 15.9 s, total: 1min 49s\n",
            "Wall time: 24min 6s\n"
          ],
          "name": "stdout"
        }
      ]
    },
    {
      "cell_type": "markdown",
      "metadata": {
        "id": "cgL6pmVQT1Tb"
      },
      "source": [
        "# Experiment - ResNet18"
      ]
    },
    {
      "cell_type": "markdown",
      "metadata": {
        "id": "5BVRVhbCn7ez"
      },
      "source": [
        "## Configuring the parameters"
      ]
    },
    {
      "cell_type": "code",
      "metadata": {
        "id": "l35mA1CZn-n-",
        "outputId": "ee06c062-4f49-488e-f10e-1950e61573e5",
        "colab": {
          "base_uri": "https://localhost:8080/"
        }
      },
      "source": [
        "DEVICE = 'cuda' if torch.cuda.is_available() else 'cpu'\n",
        "print(f'DEVICE USED: {DEVICE}')\n",
        "\n",
        "RANDOM_SEED = 42\n",
        "BATCH_SIZE = 64\n",
        "NUM_EPOCHS = 30\n",
        "LEARNING_RATE = 0.001\n",
        "IMG_RES = (244, 244)\n",
        "NUM_WORKERS = 2\n",
        "\n",
        "NUM_CLASSES = 2\n",
        "_ = torch.manual_seed(RANDOM_SEED)"
      ],
      "execution_count": null,
      "outputs": [
        {
          "output_type": "stream",
          "text": [
            "DEVICE USED: cuda\n"
          ],
          "name": "stdout"
        }
      ]
    },
    {
      "cell_type": "markdown",
      "metadata": {
        "id": "ZNxu3Kp6p2qj"
      },
      "source": [
        "## Creating the train and test data loaders"
      ]
    },
    {
      "cell_type": "code",
      "metadata": {
        "id": "CuXM7DjSp2qo"
      },
      "source": [
        "(train_loader, test_loader) = create_data_loaders(IMG_RES)"
      ],
      "execution_count": null,
      "outputs": []
    },
    {
      "cell_type": "markdown",
      "metadata": {
        "id": "GVY6DDycrHXH"
      },
      "source": [
        "## Printing the model's summary"
      ]
    },
    {
      "cell_type": "code",
      "metadata": {
        "id": "Xq6GvkG-kuB0",
        "outputId": "ce36e3dc-55ed-404a-a956-d17a1abe9e07",
        "colab": {
          "base_uri": "https://localhost:8080/"
        }
      },
      "source": [
        "model = models.resnet18(pretrained=False, num_classes=2).to(DEVICE)\n",
        "summary(model, input_size=(3, 224, 224))"
      ],
      "execution_count": null,
      "outputs": [
        {
          "output_type": "stream",
          "text": [
            "----------------------------------------------------------------\n",
            "        Layer (type)               Output Shape         Param #\n",
            "================================================================\n",
            "            Conv2d-1         [-1, 64, 112, 112]           9,408\n",
            "       BatchNorm2d-2         [-1, 64, 112, 112]             128\n",
            "              ReLU-3         [-1, 64, 112, 112]               0\n",
            "         MaxPool2d-4           [-1, 64, 56, 56]               0\n",
            "            Conv2d-5           [-1, 64, 56, 56]          36,864\n",
            "       BatchNorm2d-6           [-1, 64, 56, 56]             128\n",
            "              ReLU-7           [-1, 64, 56, 56]               0\n",
            "            Conv2d-8           [-1, 64, 56, 56]          36,864\n",
            "       BatchNorm2d-9           [-1, 64, 56, 56]             128\n",
            "             ReLU-10           [-1, 64, 56, 56]               0\n",
            "       BasicBlock-11           [-1, 64, 56, 56]               0\n",
            "           Conv2d-12           [-1, 64, 56, 56]          36,864\n",
            "      BatchNorm2d-13           [-1, 64, 56, 56]             128\n",
            "             ReLU-14           [-1, 64, 56, 56]               0\n",
            "           Conv2d-15           [-1, 64, 56, 56]          36,864\n",
            "      BatchNorm2d-16           [-1, 64, 56, 56]             128\n",
            "             ReLU-17           [-1, 64, 56, 56]               0\n",
            "       BasicBlock-18           [-1, 64, 56, 56]               0\n",
            "           Conv2d-19          [-1, 128, 28, 28]          73,728\n",
            "      BatchNorm2d-20          [-1, 128, 28, 28]             256\n",
            "             ReLU-21          [-1, 128, 28, 28]               0\n",
            "           Conv2d-22          [-1, 128, 28, 28]         147,456\n",
            "      BatchNorm2d-23          [-1, 128, 28, 28]             256\n",
            "           Conv2d-24          [-1, 128, 28, 28]           8,192\n",
            "      BatchNorm2d-25          [-1, 128, 28, 28]             256\n",
            "             ReLU-26          [-1, 128, 28, 28]               0\n",
            "       BasicBlock-27          [-1, 128, 28, 28]               0\n",
            "           Conv2d-28          [-1, 128, 28, 28]         147,456\n",
            "      BatchNorm2d-29          [-1, 128, 28, 28]             256\n",
            "             ReLU-30          [-1, 128, 28, 28]               0\n",
            "           Conv2d-31          [-1, 128, 28, 28]         147,456\n",
            "      BatchNorm2d-32          [-1, 128, 28, 28]             256\n",
            "             ReLU-33          [-1, 128, 28, 28]               0\n",
            "       BasicBlock-34          [-1, 128, 28, 28]               0\n",
            "           Conv2d-35          [-1, 256, 14, 14]         294,912\n",
            "      BatchNorm2d-36          [-1, 256, 14, 14]             512\n",
            "             ReLU-37          [-1, 256, 14, 14]               0\n",
            "           Conv2d-38          [-1, 256, 14, 14]         589,824\n",
            "      BatchNorm2d-39          [-1, 256, 14, 14]             512\n",
            "           Conv2d-40          [-1, 256, 14, 14]          32,768\n",
            "      BatchNorm2d-41          [-1, 256, 14, 14]             512\n",
            "             ReLU-42          [-1, 256, 14, 14]               0\n",
            "       BasicBlock-43          [-1, 256, 14, 14]               0\n",
            "           Conv2d-44          [-1, 256, 14, 14]         589,824\n",
            "      BatchNorm2d-45          [-1, 256, 14, 14]             512\n",
            "             ReLU-46          [-1, 256, 14, 14]               0\n",
            "           Conv2d-47          [-1, 256, 14, 14]         589,824\n",
            "      BatchNorm2d-48          [-1, 256, 14, 14]             512\n",
            "             ReLU-49          [-1, 256, 14, 14]               0\n",
            "       BasicBlock-50          [-1, 256, 14, 14]               0\n",
            "           Conv2d-51            [-1, 512, 7, 7]       1,179,648\n",
            "      BatchNorm2d-52            [-1, 512, 7, 7]           1,024\n",
            "             ReLU-53            [-1, 512, 7, 7]               0\n",
            "           Conv2d-54            [-1, 512, 7, 7]       2,359,296\n",
            "      BatchNorm2d-55            [-1, 512, 7, 7]           1,024\n",
            "           Conv2d-56            [-1, 512, 7, 7]         131,072\n",
            "      BatchNorm2d-57            [-1, 512, 7, 7]           1,024\n",
            "             ReLU-58            [-1, 512, 7, 7]               0\n",
            "       BasicBlock-59            [-1, 512, 7, 7]               0\n",
            "           Conv2d-60            [-1, 512, 7, 7]       2,359,296\n",
            "      BatchNorm2d-61            [-1, 512, 7, 7]           1,024\n",
            "             ReLU-62            [-1, 512, 7, 7]               0\n",
            "           Conv2d-63            [-1, 512, 7, 7]       2,359,296\n",
            "      BatchNorm2d-64            [-1, 512, 7, 7]           1,024\n",
            "             ReLU-65            [-1, 512, 7, 7]               0\n",
            "       BasicBlock-66            [-1, 512, 7, 7]               0\n",
            "AdaptiveAvgPool2d-67            [-1, 512, 1, 1]               0\n",
            "           Linear-68                    [-1, 2]           1,026\n",
            "================================================================\n",
            "Total params: 11,177,538\n",
            "Trainable params: 11,177,538\n",
            "Non-trainable params: 0\n",
            "----------------------------------------------------------------\n",
            "Input size (MB): 0.57\n",
            "Forward/backward pass size (MB): 62.79\n",
            "Params size (MB): 42.64\n",
            "Estimated Total Size (MB): 106.00\n",
            "----------------------------------------------------------------\n"
          ],
          "name": "stdout"
        }
      ]
    },
    {
      "cell_type": "markdown",
      "metadata": {
        "id": "k4dQlhGF7P58"
      },
      "source": [
        "## Running the experiment\n",
        "The model will be trained with three values of learning rate 0.001, 0.055, and 0.01."
      ]
    },
    {
      "cell_type": "code",
      "metadata": {
        "id": "o7psmbhh7P6B",
        "outputId": "1ce3f55c-7324-4497-cc2a-7777328d3b44",
        "colab": {
          "base_uri": "https://localhost:8080/",
          "height": 1000
        }
      },
      "source": [
        "%%time\n",
        "model_name = 'ResNet18'\n",
        "model = models.resnet18(pretrained=False, num_classes=NUM_CLASSES).to(DEVICE)\n",
        "optimizer = torch.optim.Adam(model.parameters(), lr=LEARNING_RATE)\n",
        "criterion = nn.CrossEntropyLoss()\n",
        "\n",
        "(trainer, train_history, test_history) = create_training_procedure(\n",
        "        model, optimizer, criterion, DEVICE, train_loader, test_loader)\n",
        "\n",
        "print(f'# MODEL: {model_name}, LR: {lr}')\n",
        "state = trainer.run(train_loader, max_epochs=NUM_EPOCHS)\n",
        "display_results(train_history, test_history,\n",
        "                f'{model_name} - lr: {lr}')"
      ],
      "execution_count": null,
      "outputs": [
        {
          "output_type": "stream",
          "text": [
            "# MODEL: ResNet18, LR: 0.001\n",
            "Epoch:  1, Train Avg. Acc.: 95.53, Train Avg. Loss: 0.14 - Test Avg. Acc.: 95.74, Test Avg. Loss: 0.14\n",
            "Epoch:  2, Train Avg. Acc.: 94.22, Train Avg. Loss: 0.17 - Test Avg. Acc.: 94.90, Test Avg. Loss: 0.15\n",
            "Epoch:  3, Train Avg. Acc.: 95.80, Train Avg. Loss: 0.13 - Test Avg. Acc.: 96.28, Test Avg. Loss: 0.13\n",
            "Epoch:  4, Train Avg. Acc.: 95.70, Train Avg. Loss: 0.14 - Test Avg. Acc.: 95.90, Test Avg. Loss: 0.14\n",
            "Epoch:  5, Train Avg. Acc.: 95.64, Train Avg. Loss: 0.13 - Test Avg. Acc.: 96.39, Test Avg. Loss: 0.11\n",
            "Epoch:  6, Train Avg. Acc.: 94.96, Train Avg. Loss: 0.14 - Test Avg. Acc.: 95.48, Test Avg. Loss: 0.13\n",
            "Epoch:  7, Train Avg. Acc.: 96.20, Train Avg. Loss: 0.12 - Test Avg. Acc.: 96.59, Test Avg. Loss: 0.11\n",
            "Epoch:  8, Train Avg. Acc.: 95.77, Train Avg. Loss: 0.12 - Test Avg. Acc.: 95.86, Test Avg. Loss: 0.12\n",
            "Epoch:  9, Train Avg. Acc.: 96.11, Train Avg. Loss: 0.12 - Test Avg. Acc.: 96.39, Test Avg. Loss: 0.12\n",
            "Epoch: 10, Train Avg. Acc.: 96.16, Train Avg. Loss: 0.13 - Test Avg. Acc.: 96.48, Test Avg. Loss: 0.12\n",
            "Epoch: 11, Train Avg. Acc.: 96.20, Train Avg. Loss: 0.11 - Test Avg. Acc.: 96.34, Test Avg. Loss: 0.11\n",
            "Epoch: 12, Train Avg. Acc.: 96.49, Train Avg. Loss: 0.10 - Test Avg. Acc.: 96.53, Test Avg. Loss: 0.10\n",
            "Epoch: 13, Train Avg. Acc.: 96.06, Train Avg. Loss: 0.11 - Test Avg. Acc.: 96.26, Test Avg. Loss: 0.11\n",
            "Epoch: 14, Train Avg. Acc.: 96.67, Train Avg. Loss: 0.10 - Test Avg. Acc.: 96.86, Test Avg. Loss: 0.10\n",
            "Epoch: 15, Train Avg. Acc.: 96.38, Train Avg. Loss: 0.11 - Test Avg. Acc.: 96.75, Test Avg. Loss: 0.10\n",
            "Epoch: 16, Train Avg. Acc.: 96.43, Train Avg. Loss: 0.10 - Test Avg. Acc.: 96.55, Test Avg. Loss: 0.10\n",
            "Epoch: 17, Train Avg. Acc.: 96.52, Train Avg. Loss: 0.10 - Test Avg. Acc.: 96.57, Test Avg. Loss: 0.10\n",
            "Epoch: 18, Train Avg. Acc.: 95.07, Train Avg. Loss: 0.13 - Test Avg. Acc.: 95.30, Test Avg. Loss: 0.12\n",
            "Epoch: 19, Train Avg. Acc.: 96.84, Train Avg. Loss: 0.09 - Test Avg. Acc.: 96.88, Test Avg. Loss: 0.09\n",
            "Epoch: 20, Train Avg. Acc.: 96.82, Train Avg. Loss: 0.09 - Test Avg. Acc.: 96.90, Test Avg. Loss: 0.09\n",
            "Epoch: 21, Train Avg. Acc.: 96.81, Train Avg. Loss: 0.09 - Test Avg. Acc.: 97.10, Test Avg. Loss: 0.09\n",
            "Epoch: 22, Train Avg. Acc.: 96.69, Train Avg. Loss: 0.09 - Test Avg. Acc.: 96.68, Test Avg. Loss: 0.09\n",
            "Epoch: 23, Train Avg. Acc.: 96.87, Train Avg. Loss: 0.09 - Test Avg. Acc.: 96.93, Test Avg. Loss: 0.09\n",
            "Epoch: 24, Train Avg. Acc.: 96.92, Train Avg. Loss: 0.09 - Test Avg. Acc.: 97.01, Test Avg. Loss: 0.08\n",
            "Epoch: 25, Train Avg. Acc.: 97.09, Train Avg. Loss: 0.08 - Test Avg. Acc.: 96.95, Test Avg. Loss: 0.09\n",
            "Epoch: 26, Train Avg. Acc.: 97.00, Train Avg. Loss: 0.08 - Test Avg. Acc.: 97.24, Test Avg. Loss: 0.08\n",
            "Epoch: 27, Train Avg. Acc.: 97.02, Train Avg. Loss: 0.08 - Test Avg. Acc.: 96.84, Test Avg. Loss: 0.08\n",
            "Epoch: 28, Train Avg. Acc.: 97.28, Train Avg. Loss: 0.08 - Test Avg. Acc.: 97.26, Test Avg. Loss: 0.08\n",
            "Epoch: 29, Train Avg. Acc.: 97.28, Train Avg. Loss: 0.08 - Test Avg. Acc.: 97.21, Test Avg. Loss: 0.08\n",
            "Epoch: 30, Train Avg. Acc.: 97.54, Train Avg. Loss: 0.07 - Test Avg. Acc.: 97.17, Test Avg. Loss: 0.08\n"
          ],
          "name": "stdout"
        },
        {
          "output_type": "display_data",
          "data": {
            "image/png": "[encoded data removed]",
            "text/plain": [
              "<Figure size 432x288 with 1 Axes>"
            ]
          },
          "metadata": {
            "tags": [],
            "needs_background": "light"
          }
        },
        {
          "output_type": "display_data",
          "data": {
            "image/png": "[encoded data removed]",
            "text/plain": [
              "<Figure size 432x288 with 1 Axes>"
            ]
          },
          "metadata": {
            "tags": [],
            "needs_background": "light"
          }
        },
        {
          "output_type": "stream",
          "text": [
            "CPU times: user 35min 57s, sys: 21min 56s, total: 57min 53s\n",
            "Wall time: 1h 29min 49s\n"
          ],
          "name": "stdout"
        }
      ]
    }
  ]
}